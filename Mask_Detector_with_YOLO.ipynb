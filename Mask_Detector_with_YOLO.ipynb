{
  "nbformat": 4,
  "nbformat_minor": 0,
  "metadata": {
    "accelerator": "GPU",
    "colab": {
      "name": "Mask Detector with YOLO.ipynb",
      "provenance": [],
      "collapsed_sections": [],
      "authorship_tag": "ABX9TyMo4KRam74O62YGOGnTl/eQ",
      "include_colab_link": true
    },
    "kernelspec": {
      "display_name": "Python 3",
      "name": "python3"
    },
    "language_info": {
      "name": "python"
    }
  },
  "cells": [
    {
      "cell_type": "markdown",
      "metadata": {
        "id": "view-in-github",
        "colab_type": "text"
      },
      "source": [
        "<a href=\"https://colab.research.google.com/github/OuahabAchraf99/Mask_Detection_with_YOLO/blob/main/Mask_Detector_with_YOLO.ipynb\" target=\"_parent\"><img src=\"https://colab.research.google.com/assets/colab-badge.svg\" alt=\"Open In Colab\"/></a>"
      ]
    },
    {
      "cell_type": "code",
      "metadata": {
        "colab": {
          "base_uri": "https://localhost:8080/"
        },
        "id": "3s9kO5sVZ80x",
        "outputId": "419018ea-5265-4ab6-ea47-049bb8b02a0f"
      },
      "source": [
        "from google.colab import drive\n",
        "drive.mount('/content/gdrive/')"
      ],
      "execution_count": null,
      "outputs": [
        {
          "output_type": "stream",
          "text": [
            "Mounted at /content/gdrive/\n"
          ],
          "name": "stdout"
        }
      ]
    },
    {
      "cell_type": "markdown",
      "metadata": {
        "id": "bSDhIwBddwYQ"
      },
      "source": [
        "# 1/ Downloading the Kaggle Mask Detection DataSet to Drive Repository\n"
      ]
    },
    {
      "cell_type": "code",
      "metadata": {
        "colab": {
          "base_uri": "https://localhost:8080/"
        },
        "id": "robsUMmFcVaY",
        "outputId": "d381d9ff-ecf4-415d-f767-ad7be8355b58"
      },
      "source": [
        "%cd /content/gdrive/My Drive/Kaggle DataSets"
      ],
      "execution_count": null,
      "outputs": [
        {
          "output_type": "stream",
          "text": [
            "/content/gdrive/My Drive/Kaggle DataSets\n"
          ],
          "name": "stdout"
        }
      ]
    },
    {
      "cell_type": "code",
      "metadata": {
        "colab": {
          "base_uri": "https://localhost:8080/",
          "height": 35
        },
        "id": "PzZr5UCmcNOE",
        "outputId": "9e7883fb-3502-4c8b-9e29-23f74e4da994"
      },
      "source": [
        "import os\n",
        "os.environ['KAGGLE_CONFIG_DIR'] = \"/content/gdrive/My Drive/Kaggle DataSets\"\n",
        "%pwd"
      ],
      "execution_count": null,
      "outputs": [
        {
          "output_type": "execute_result",
          "data": {
            "application/vnd.google.colaboratory.intrinsic+json": {
              "type": "string"
            },
            "text/plain": [
              "'/content/gdrive/My Drive/Kaggle DataSets'"
            ]
          },
          "metadata": {
            "tags": []
          },
          "execution_count": 4
        }
      ]
    },
    {
      "cell_type": "markdown",
      "metadata": {
        "id": "6aZcfjZbcz52"
      },
      "source": [
        "!kaggle datasets download -d andrewmvd/face-mask-detection"
      ]
    },
    {
      "cell_type": "code",
      "metadata": {
        "colab": {
          "base_uri": "https://localhost:8080/"
        },
        "id": "PDfla3RxdA83",
        "outputId": "097824e2-d2e7-4947-8b9c-033b7cfeb338"
      },
      "source": [
        "!kaggle datasets download -d andrewmvd/face-mask-detection --unzip"
      ],
      "execution_count": null,
      "outputs": [
        {
          "output_type": "stream",
          "text": [
            "Downloading face-mask-detection.zip to /content/gdrive/My Drive/Kaggle DataSets\n",
            "100% 397M/398M [00:04<00:00, 107MB/s] \n",
            "100% 398M/398M [00:04<00:00, 95.4MB/s]\n"
          ],
          "name": "stdout"
        }
      ]
    },
    {
      "cell_type": "code",
      "metadata": {
        "colab": {
          "base_uri": "https://localhost:8080/"
        },
        "id": "NzxSZNfZgwA3",
        "outputId": "39764498-1870-41fc-ee3b-193baaadf30a"
      },
      "source": [
        "# clonning Darknet Repo with pretrained WEIGHTS\n",
        "!git clone https://github.com/pjreddie/darknet.git"
      ],
      "execution_count": null,
      "outputs": [
        {
          "output_type": "stream",
          "text": [
            "Cloning into 'darknet'...\n",
            "remote: Enumerating objects: 5934, done.\u001b[K\n",
            "remote: Total 5934 (delta 0), reused 0 (delta 0), pack-reused 5934\u001b[K\n",
            "Receiving objects: 100% (5934/5934), 6.35 MiB | 6.35 MiB/s, done.\n",
            "Resolving deltas: 100% (3926/3926), done.\n",
            "Checking out files: 100% (979/979), done.\n"
          ],
          "name": "stdout"
        }
      ]
    },
    {
      "cell_type": "code",
      "metadata": {
        "colab": {
          "base_uri": "https://localhost:8080/"
        },
        "id": "iKNyn3SnH-HM",
        "outputId": "80428f13-ba23-4b5b-d908-36f0c969f830"
      },
      "source": [
        "%cd darknet \n",
        "!wget https://pjreddie.com/media/files/darknet53.conv.74\n"
      ],
      "execution_count": null,
      "outputs": [
        {
          "output_type": "stream",
          "text": [
            "/content/gdrive/My Drive/Kaggle DataSets/darknet\n"
          ],
          "name": "stdout"
        }
      ]
    },
    {
      "cell_type": "code",
      "metadata": {
        "colab": {
          "base_uri": "https://localhost:8080/"
        },
        "id": "4o8nt321eZI2",
        "outputId": "85085a36-2ea5-458b-8062-4ea7b912817f"
      },
      "source": [
        "%mv ../images ./\n",
        "%mv ../annotations ./\n",
        "%mkdir -p ./images/train\n",
        "%mkdir -p./images/test\n",
        "%mv ./images/maksssksksss??????? ./images/train\n",
        "%mv ./images/*.??? ./images/test\n",
        "%mkdir -p ./annotations/train\n",
        "%mkdir -p ./annotations/test\n",
        "%mv ./annotations/maksssksksss??????? ./annotations/train\n",
        "%mv ./annotations/*.??? ./annotations/test"
      ],
      "execution_count": null,
      "outputs": [
        {
          "output_type": "stream",
          "text": [
            "mv: cannot stat '../images': No such file or directory\n",
            "mv: cannot stat '../annotations': No such file or directory\n",
            "mkdir: invalid option -- '.'\n",
            "Try 'mkdir --help' for more information.\n",
            "mv: cannot stat './images/maksssksksss???????': No such file or directory\n",
            "mv: cannot stat './images/*.???': No such file or directory\n"
          ],
          "name": "stdout"
        }
      ]
    },
    {
      "cell_type": "code",
      "metadata": {
        "id": "SGUFPPtsgv6R"
      },
      "source": [
        "%mkdir -p labels/train\n",
        "%mkdir -p labels/test\n",
        "Convert_XML2TXT('./annotations/train','./labels/train')\n",
        "Convert_XML2TXT('./annotations/test','./labels/test')\n",
        "\n"
      ],
      "execution_count": null,
      "outputs": []
    },
    {
      "cell_type": "code",
      "metadata": {
        "id": "7vCKAVmtgvqy"
      },
      "source": [
        "# Imports\n",
        "import os\n",
        "import glob\n",
        "import pandas as pd\n",
        "import io\n",
        "import xml.etree.cElementTree as ET\n",
        "\n"
      ],
      "execution_count": null,
      "outputs": []
    },
    {
      "cell_type": "code",
      "metadata": {
        "id": "_oKIC1djgvg0"
      },
      "source": [
        "# Extract bounding box (x,y,h,w)\n",
        "# from inputs (img_width,img_hight) and (x_min,y_min,x_max,_ymax) // top left and bottom right corners coordinates\n",
        "def Extract(imgSize,boxCoordinates):\n",
        "  dw = 1./imgSize[0]\n",
        "  dh = 1./imgSize[1]\n",
        "  w = abs(boxCoordinates[2]-boxCoordinates[0])\n",
        "  h = abs(boxCoordinates[3]- boxCoordinates[1])\n",
        "  x = boxCoordinates[0]+(w/2.)\n",
        "  y = boxCoordinates[1] + (h/2.)\n",
        "\n",
        "  # normalizing outputs so that the scale= [0..1]\n",
        "  w = w * dw\n",
        "  x = x * dw\n",
        "  h = h * dh\n",
        "  y = y * dh\n",
        "\n",
        "  return (x,y,w,h)"
      ],
      "execution_count": null,
      "outputs": []
    },
    {
      "cell_type": "code",
      "metadata": {
        "id": "SBV8yxDGgvz2"
      },
      "source": [
        "# Convert ALL the XML annotation files to TXT to use in the Darknet  \n",
        "def Convert_XML2TXT(inputPath,outputPath):\n",
        "  classes={\n",
        "      'with_mask': '0',\n",
        "      'without_mask' : '1',\n",
        "      'mask_weared_incorrect': '2'\n",
        "  }\n",
        "  if (not glob.glob(inputPath+'/*.xml')):\n",
        "    raise ( ValueError(f\" There is no XML files in this destination \"))\n",
        "  for xml in glob.glob(inputPath+\"/*.xml\"):\n",
        "    tree=ET.parse(xml)\n",
        "    root=tree.getroot()\n",
        "\n",
        "    output_fileName=root.find(\"filename\").text\n",
        "    width,hight=int(root.find(\"size\")[0].text),int(root.find(\"size\")[1].text)\n",
        "    \n",
        "\n",
        "    txt_list=[]\n",
        "    for obj in root.findall(\"object\"):\n",
        "      bndbox=obj.find(\"bndbox\")\n",
        "      bndbox_coord=float(bndbox[0].text),float(bndbox[1].text),float(bndbox[2].text),float(bndbox[3].text)\n",
        "      bnbdox_reformated=Extract((width,hight),bndbox_coord)\n",
        "      c=obj.find(\"name\").text\n",
        "\n",
        "      txt_list.append(classes.get(c) +\" \"+ \" \".join([str(l) for l in bnbdox_reformated]))\n",
        "\n",
        "    with open(outputPath + \"/\" + output_fileName.split(\".\")[0] +\".txt\",'w') as writer:\n",
        "      for line in txt_list:\n",
        "        writer.write(line+\" \\n\") \n",
        "                      \n"
      ],
      "execution_count": null,
      "outputs": []
    },
    {
      "cell_type": "code",
      "metadata": {
        "id": "yuu0xmf-XBUv"
      },
      "source": [
        "# Generating two files train.txt and text.txt containing the paths to the images \n",
        "def imagesPath(inputPath,outputPath,fileName):\n",
        "  with open(outputPath + \"/\" + fileName + \".txt\",'w') as writer:\n",
        "    for f in glob.glob(inputPath + \"/*.png\"):\n",
        "      writer.write(os.path.abspath(f)+\"\\n\")\n"
      ],
      "execution_count": null,
      "outputs": []
    },
    {
      "cell_type": "code",
      "metadata": {
        "id": "knb6JILXl4HZ"
      },
      "source": [
        "\n",
        "imagesPath(\"./images/train\",\"./data\",\"train\")\n",
        "imagesPath(\"./images/test\",\"./data\",\"test\")"
      ],
      "execution_count": null,
      "outputs": []
    },
    {
      "cell_type": "code",
      "metadata": {
        "colab": {
          "base_uri": "https://localhost:8080/",
          "height": 35
        },
        "id": "IaxE3S3FBjQM",
        "outputId": "92e3cc33-8199-49da-92b1-5f905cddb883"
      },
      "source": [
        "%pwd"
      ],
      "execution_count": null,
      "outputs": [
        {
          "output_type": "execute_result",
          "data": {
            "application/vnd.google.colaboratory.intrinsic+json": {
              "type": "string"
            },
            "text/plain": [
              "'/content/gdrive/My Drive/Kaggle DataSets'"
            ]
          },
          "metadata": {
            "tags": []
          },
          "execution_count": 9
        }
      ]
    },
    {
      "cell_type": "code",
      "metadata": {
        "id": "1I4M54oaBfbv"
      },
      "source": [
        "#%cd ./darknet\n",
        "!make\n",
        "!chmod +x ./darknet\n",
        "!rm ./backup -r\n",
        "!ln -s ./backup/content/darknet\n",
        "!sudo apt install dos2unix\n",
        "!dos2unix ./data/train.txt\n",
        "!dos2unix ./data/test.txt\n",
        "!dos2unix ./data/face_mask.data\n",
        "!dos2unix ./data/face_mask.names\n",
        "!dos2unix ./cfg/face_mask.cfg\n"
      ],
      "execution_count": null,
      "outputs": []
    },
    {
      "cell_type": "code",
      "metadata": {
        "id": "4pr2JVgTPNuz"
      },
      "source": [
        "#To start the training\n",
        "!./darknet detector train data/face_mask.data cfg/face_mask.cfg darknet53.conv.74."
      ],
      "execution_count": null,
      "outputs": []
    },
    {
      "cell_type": "code",
      "metadata": {
        "id": "8qXI7_RKDlNS"
      },
      "source": [
        "#Test time\n",
        "!wget https://github.com/cansik/yolo-mask-detection/releases/download/pre-trained/mask-yolov3-tiny-prn.weights\n",
        "!./darknet detector test data/face_mask.data cfg/face_mask.cfg mask-yolov3-tiny-prn.weights -out ttt"
      ],
      "execution_count": null,
      "outputs": []
    },
    {
      "cell_type": "code",
      "metadata": {
        "id": "GJG7FQvBOIk8"
      },
      "source": [
        ""
      ],
      "execution_count": null,
      "outputs": []
    }
  ]
}